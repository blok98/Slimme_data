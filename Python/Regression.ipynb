{
 "cells": [
  {
   "cell_type": "code",
   "execution_count": 22,
   "id": "666d4624",
   "metadata": {},
   "outputs": [],
   "source": [
    "import numpy as np\n",
    "from sklearn.linear_model import LinearRegression\n",
    "import matplotlib.pyplot as plt\n",
    "import pandas as pd"
   ]
  },
  {
   "cell_type": "markdown",
   "id": "03a00ce1",
   "metadata": {},
   "source": [
    "### Linear regression using sklearn on demo.csv data"
   ]
  },
  {
   "cell_type": "code",
   "execution_count": 23,
   "id": "358e1d22",
   "metadata": {},
   "outputs": [],
   "source": [
    "# df = pd.read_csv(\"C:\\\\Users\\\\tom_s\\\\Downloads\\\\demo.csv\")\n",
    "# df.head()"
   ]
  },
  {
   "cell_type": "markdown",
   "id": "062efd67",
   "metadata": {},
   "source": [
    "First we load in the csv file demo.csv. We use the package Pandas to load and store the data. This makes it more accesable and easier to use."
   ]
  },
  {
   "cell_type": "markdown",
   "id": "e55dc483",
   "metadata": {},
   "source": [
    "In order to find a linear regression between points, we generate books with amount of pages and their sizes. We do this with the size / pages ratio and create new books with a slight error in this ratio. "
   ]
  },
  {
   "cell_type": "code",
   "execution_count": 24,
   "id": "c031ba11",
   "metadata": {},
   "outputs": [],
   "source": [
    "def generate_books(cm_per_page = 2.5/150, size = 20):\n",
    "    factors = np.random.normal(cm_per_page,cm_per_page/10,size=size)\n",
    "    pages = [150+ np.random.randint(100) -50 for i in factors]\n",
    "    cm = factors*pages\n",
    "    df = pd.DataFrame()\n",
    "    df[\"pages\"] = pages\n",
    "    df[\"size (cm)\"] = cm\n",
    "    df.to_csv(\"C:\\\\Users\\\\tom_s\\\\Desktop\\\\Minor\\\\Big Data\\\\books.csv\")\n",
    "    return pages,list(cm)"
   ]
  },
  {
   "cell_type": "code",
   "execution_count": 25,
   "id": "756d86cb",
   "metadata": {
    "scrolled": true
   },
   "outputs": [
    {
     "data": {
      "text/html": [
       "<div>\n",
       "<style scoped>\n",
       "    .dataframe tbody tr th:only-of-type {\n",
       "        vertical-align: middle;\n",
       "    }\n",
       "\n",
       "    .dataframe tbody tr th {\n",
       "        vertical-align: top;\n",
       "    }\n",
       "\n",
       "    .dataframe thead th {\n",
       "        text-align: right;\n",
       "    }\n",
       "</style>\n",
       "<table border=\"1\" class=\"dataframe\">\n",
       "  <thead>\n",
       "    <tr style=\"text-align: right;\">\n",
       "      <th></th>\n",
       "      <th>pages</th>\n",
       "      <th>size (cm)</th>\n",
       "    </tr>\n",
       "  </thead>\n",
       "  <tbody>\n",
       "    <tr>\n",
       "      <th>0</th>\n",
       "      <td>197</td>\n",
       "      <td>3.281290</td>\n",
       "    </tr>\n",
       "    <tr>\n",
       "      <th>1</th>\n",
       "      <td>165</td>\n",
       "      <td>3.116783</td>\n",
       "    </tr>\n",
       "    <tr>\n",
       "      <th>2</th>\n",
       "      <td>174</td>\n",
       "      <td>2.750034</td>\n",
       "    </tr>\n",
       "    <tr>\n",
       "      <th>3</th>\n",
       "      <td>102</td>\n",
       "      <td>1.686151</td>\n",
       "    </tr>\n",
       "    <tr>\n",
       "      <th>4</th>\n",
       "      <td>152</td>\n",
       "      <td>2.906728</td>\n",
       "    </tr>\n",
       "  </tbody>\n",
       "</table>\n",
       "</div>"
      ],
      "text/plain": [
       "   pages  size (cm)\n",
       "0    197   3.281290\n",
       "1    165   3.116783\n",
       "2    174   2.750034\n",
       "3    102   1.686151\n",
       "4    152   2.906728"
      ]
     },
     "execution_count": 25,
     "metadata": {},
     "output_type": "execute_result"
    }
   ],
   "source": [
    "df = pd.read_csv(\"C:\\\\Users\\\\tom_s\\\\Desktop\\\\Minor\\\\Big Data\\\\books.csv\",usecols = ['pages','size (cm)'])\n",
    "df.head()"
   ]
  },
  {
   "cell_type": "markdown",
   "id": "99684ea3",
   "metadata": {},
   "source": [
    "Now we define the input train data and the expected input train data. Our linear regression uses all data as train data because there is no data we need to predict. In order to use x_ as input data we need to reshape it into a -1,1 array. With reg.fit() we create a Regression Model."
   ]
  },
  {
   "cell_type": "code",
   "execution_count": 26,
   "id": "a6811835",
   "metadata": {},
   "outputs": [],
   "source": [
    "X = np.array(df[\"pages\"]).reshape(-1,1)\n",
    "# y = 1 * x_0 + 2 * x_1 + 3\n",
    "y = np.array(df[\"size (cm)\"])\n",
    "reg = LinearRegression().fit(X, y)"
   ]
  },
  {
   "cell_type": "markdown",
   "id": "f50ce160",
   "metadata": {},
   "source": [
    "Now we can plot the data points we got from data.csv and the best linear fitting line with reg.predict(X)."
   ]
  },
  {
   "cell_type": "code",
   "execution_count": 27,
   "id": "6f81d3c0",
   "metadata": {},
   "outputs": [
    {
     "data": {
      "text/plain": [
       "<matplotlib.collections.PathCollection at 0x1b65aac2670>"
      ]
     },
     "execution_count": 27,
     "metadata": {},
     "output_type": "execute_result"
    },
    {
     "data": {
      "image/png": "[encoded data removed]",
      "text/plain": [
       "<Figure size 432x288 with 1 Axes>"
      ]
     },
     "metadata": {
      "needs_background": "light"
     },
     "output_type": "display_data"
    }
   ],
   "source": [
    "plt.plot(X,reg.predict(X))\n",
    "plt.scatter(X,y)"
   ]
  },
  {
   "cell_type": "markdown",
   "id": "2091a5e6",
   "metadata": {},
   "source": [
    "#### x1 and x2"
   ]
  },
  {
   "cell_type": "code",
   "execution_count": 35,
   "id": "396cb659",
   "metadata": {},
   "outputs": [
    {
     "data": {
      "text/plain": [
       "-0.04378714025862829"
      ]
     },
     "execution_count": 35,
     "metadata": {},
     "output_type": "execute_result"
    }
   ],
   "source": [
    "reg.intercept_"
   ]
  },
  {
   "cell_type": "code",
   "execution_count": 37,
   "id": "f8740075",
   "metadata": {},
   "outputs": [
    {
     "data": {
      "text/plain": [
       "array([0.01663447])"
      ]
     },
     "execution_count": 37,
     "metadata": {},
     "output_type": "execute_result"
    }
   ],
   "source": [
    "reg.coef_"
   ]
  },
  {
   "cell_type": "markdown",
   "id": "0b0db4b6",
   "metadata": {},
   "source": [
    "Here we can see that the formula of the line = y = -0.017*x + 0.043. So x1 = -0.017 and x2 = 0.043"
   ]
  },
  {
   "cell_type": "markdown",
   "id": "97e9b83f",
   "metadata": {},
   "source": [
    "##### Prediction size books with 180 pages and books with 2000 pages"
   ]
  },
  {
   "cell_type": "code",
   "execution_count": 29,
   "id": "69a4fb1e",
   "metadata": {},
   "outputs": [
    {
     "data": {
      "text/plain": [
       "array([2.95041695])"
      ]
     },
     "execution_count": 29,
     "metadata": {},
     "output_type": "execute_result"
    }
   ],
   "source": [
    "reg.predict([[180]])"
   ]
  },
  {
   "cell_type": "code",
   "execution_count": 30,
   "id": "58974365",
   "metadata": {},
   "outputs": [
    {
     "data": {
      "text/plain": [
       "array([33.22514725])"
      ]
     },
     "execution_count": 30,
     "metadata": {},
     "output_type": "execute_result"
    }
   ],
   "source": [
    "reg.predict([[2000]])"
   ]
  },
  {
   "cell_type": "markdown",
   "id": "c7d5e141",
   "metadata": {},
   "source": [
    "###### interpolation vs extrapolation"
   ]
  },
  {
   "cell_type": "markdown",
   "id": "6f4fc026",
   "metadata": {},
   "source": [
    "Thus our linear regression model predicts a book of 180 pages to be 2.95cm in height, and a book of 2000 pages to be 33.23cm in height. The prediction made at 180 pages is called interpolation, meaning the value of the datapoint is included in the train data set. The prediction made at 2000 pages is called extrapolation, meaning the value of the datapoint is bigger than the maximum value in the train data set. Data with more than 200 pages could show a different correlation which our model is not aware of. That means extrapolated predictions could be less acurate in this situation."
   ]
  }
 ],
 "metadata": {
  "kernelspec": {
   "display_name": "Python 3 (ipykernel)",
   "language": "python",
   "name": "python3"
  },
  "language_info": {
   "codemirror_mode": {
    "name": "ipython",
    "version": 3
   },
   "file_extension": ".py",
   "mimetype": "text/x-python",
   "name": "python",
   "nbconvert_exporter": "python",
   "pygments_lexer": "ipython3",
   "version": "3.9.6"
  }
 },
 "nbformat": 4,
 "nbformat_minor": 5
}
